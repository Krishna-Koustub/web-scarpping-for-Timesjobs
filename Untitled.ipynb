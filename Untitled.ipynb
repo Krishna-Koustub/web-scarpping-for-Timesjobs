{
 "cells": [
  {
   "cell_type": "code",
   "execution_count": 2,
   "id": "e7360503",
   "metadata": {},
   "outputs": [
    {
     "ename": "SyntaxError",
     "evalue": "unexpected EOF while parsing (Temp/ipykernel_20808/4271655482.py, line 63)",
     "output_type": "error",
     "traceback": [
      "\u001b[1;36m  File \u001b[1;32m\"C:\\Users\\krish\\AppData\\Local\\Temp/ipykernel_20808/4271655482.py\"\u001b[1;36m, line \u001b[1;32m63\u001b[0m\n\u001b[1;33m    movie_list = pd.DataFrame({ \"Movie Name\": movie_name, \"Year of Release\" : year, \"Watch Time\": time,\"Movie Rating\": rating, \"Meatscore of movie\": metasco\u001b[0m\n\u001b[1;37m                                                                                                                                                            ^\u001b[0m\n\u001b[1;31mSyntaxError\u001b[0m\u001b[1;31m:\u001b[0m unexpected EOF while parsing\n"
     ]
    }
   ],
   "source": [
    "#importing the libraries needed \n",
    "import pandas as pd\n",
    "import numpy as np\n",
    "import requests\n",
    "from bs4 import BeautifulSoup\n",
    "from time import sleep\n",
    "from random import randint\n",
    "\n",
    "#Declaring the headers \n",
    "headers = {\"Accept-Language\": \"en-US,en;q=0.5\"}\n",
    "\n",
    "#declaring the list of empty variables, So that we can append the data overall\n",
    "\n",
    "movie_name = []\n",
    "year = []\n",
    "time=[]\n",
    "rating=[]\n",
    "metascore =[]\n",
    "votes = []\n",
    "gross = []\n",
    "description = []\n",
    "\n",
    "#creating an array of values and passing it in the url for dynamic webpages\n",
    "pages = np.arange(1,1000,100)\n",
    "\n",
    "#the whole core of the script\n",
    "for page in pages:\n",
    "    page = requests.get(\"https://www.imdb.com/search/title/?groups=top_1000&sort=user_rating,desc&count=100&start=\"+str(page)+\"&ref_=adv_nxt\")\n",
    "    soup = BeautifulSoup(page.text, 'html.parser')\n",
    "    movie_data = soup.findAll('div', attrs = {'class': 'lister-item mode-advanced'})\n",
    "    sleep(randint(2,8))\n",
    "    for store in movie_data:\n",
    "        name = store.h3.a.text\n",
    "        movie_name.append(name)\n",
    "        \n",
    "        year_of_release = store.h3.find('span', class_ = \"lister-item-year text-muted unbold\").text\n",
    "        year.append(year_of_release)\n",
    "        \n",
    "        runtime = store.p.find(\"span\", class_ = 'runtime').text\n",
    "        time.append(runtime)\n",
    "        \n",
    "        rate = store.find('div', class_ = \"inline-block ratings-imdb-rating\").text.replace('\\n', '')\n",
    "        rating.append(rate)\n",
    "        \n",
    "        meta = store.find('span', class_ = \"metascore\").text if store.find('span', class_ = \"metascore\") else \"****\"\n",
    "        metascore.append(meta)\n",
    "        \n",
    "        \n",
    "        value = store.find_all('span', attrs = {'name': \"nv\"})\n",
    "        \n",
    "        vote = value[0].text\n",
    "        votes.append(vote)\n",
    "        \n",
    "        grosses = value[1].text if len(value)>1 else '%^%^%^'\n",
    "        gross.append(grosses)\n",
    "        \n",
    "        # Description of the Movies -- Not explained in the Video, But you will figure it out. \n",
    "        describe = store.find_all('p', class_ = 'text-muted')\n",
    "        description_ = describe[1].text.replace('\\n', '') if len(describe) >1 else '*****'\n",
    "        description.append(description_)\n",
    "        \n",
    "#creating a dataframe \n",
    "movie_list = pd.DataFrame({ \"Movie Name\": movie_name, \"Year of Release\" : year, \"Watch Time\": time,\"Movie Rating\": rating, \"Meatscore of movie\": metasco"
   ]
  },
  {
   "cell_type": "code",
   "execution_count": null,
   "id": "880de616",
   "metadata": {},
   "outputs": [],
   "source": []
  },
  {
   "cell_type": "code",
   "execution_count": null,
   "id": "92946352",
   "metadata": {},
   "outputs": [],
   "source": []
  },
  {
   "cell_type": "code",
   "execution_count": null,
   "id": "0010f615",
   "metadata": {},
   "outputs": [],
   "source": []
  },
  {
   "cell_type": "code",
   "execution_count": null,
   "id": "3607954b",
   "metadata": {},
   "outputs": [],
   "source": []
  }
 ],
 "metadata": {
  "kernelspec": {
   "display_name": "Python 3 (ipykernel)",
   "language": "python",
   "name": "python3"
  },
  "language_info": {
   "codemirror_mode": {
    "name": "ipython",
    "version": 3
   },
   "file_extension": ".py",
   "mimetype": "text/x-python",
   "name": "python",
   "nbconvert_exporter": "python",
   "pygments_lexer": "ipython3",
   "version": "3.9.4"
  }
 },
 "nbformat": 4,
 "nbformat_minor": 5
}
